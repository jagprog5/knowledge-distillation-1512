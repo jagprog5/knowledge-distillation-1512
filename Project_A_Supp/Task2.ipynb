{
 "cells": [
  {
   "cell_type": "markdown",
   "metadata": {},
   "source": [
    "# Data loading"
   ]
  },
  {
   "cell_type": "code",
   "execution_count": 7,
   "metadata": {},
   "outputs": [
    {
     "name": "stderr",
     "output_type": "stream",
     "text": [
      "2023-11-01 16:14:00.147988: W tensorflow/tsl/framework/cpu_allocator_impl.cc:83] Allocation of 1309593600 exceeds 10% of free system memory.\n"
     ]
    }
   ],
   "source": [
    "import tensorflow.compat.v2 as tf\n",
    "import tensorflow_datasets as tfds\n",
    "from typing import Union\n",
    "\n",
    "tf.enable_v2_behavior()\n",
    "\n",
    "import numpy as np\n",
    "from PIL import Image\n",
    "import csv\n",
    "import os\n",
    "path = os.path.join(os.path.abspath(''), \"mhist_dataset\", \"annotations.csv\")\n",
    "\n",
    "raw_data = []\n",
    "with open(path, 'r') as file:\n",
    "    csv_reader = csv.reader(file)\n",
    "    next(csv_reader) # skip header row\n",
    "    for row in csv_reader:\n",
    "        raw_data.append(row)\n",
    "\n",
    "# file name (MHIST_zzz.png),HP/SSA,Number of Annotations who selecteed SSA out of 7,train/test\n",
    "\n",
    "raw_train = []\n",
    "raw_test = []\n",
    "\n",
    "# split raw into train and test\n",
    "# also convert the columns to indicate the number of annotators for HP vs SSA\n",
    "\n",
    "hp_train_total = 0\n",
    "ssa_train_total = 0\n",
    "\n",
    "for elem in raw_data:\n",
    "    to_add = raw_train if elem[-1] == \"train\" else raw_test\n",
    "    num_ssa = float(elem[2])\n",
    "    num_hp = 7 - num_ssa\n",
    "    num_ssa /= 7 # normalize value\n",
    "    num_hp /= 7\n",
    "    if elem[-1] == \"train\":\n",
    "        if num_ssa < num_hp:\n",
    "            ssa_train_total += 1\n",
    "        else:\n",
    "            hp_train_total += 1\n",
    "    to_add.append([elem[0], num_ssa, num_hp])\n",
    "\n",
    "DO_UNDERSAMPLE = False\n",
    "\n",
    "if DO_UNDERSAMPLE:\n",
    "    num_to_remove = ssa_train_total - hp_train_total\n",
    "    assert(num_to_remove > 0)\n",
    "\n",
    "    for i in reversed(range(len(raw_train))):\n",
    "        if raw_train[i][1] < raw_train[i][2]:\n",
    "            del raw_train[i]\n",
    "            num_to_remove -= 1\n",
    "            if num_to_remove == 0:\n",
    "                break\n",
    "\n",
    "    # verify balance properties\n",
    "    assert(len(raw_train) == hp_train_total * 2)\n",
    "    assert(sum(1 for tup in raw_train if tup[1] > tup[2]) == hp_train_total)\n",
    "\n",
    "def create_train_test(raw):\n",
    "    x = np.zeros([len(raw),224,224,3], dtype=np.float32)\n",
    "    y = np.zeros([len(raw),2], dtype=np.float32)\n",
    "\n",
    "    for i, elem in enumerate(raw):\n",
    "        file_name = elem[0]\n",
    "        file_path = os.path.join(os.path.abspath(''), \"mhist_dataset\", \"images\", file_name)\n",
    "        image = Image.open(file_path)\n",
    "        image_array = np.array(image, dtype=np.float32) / 255.0\n",
    "        x[i] = image_array\n",
    "\n",
    "        y[i][0] = elem[1]\n",
    "        y[i][1] = elem[2]\n",
    "    \n",
    "    return x,y\n",
    "\n",
    "train_x, train_y = create_train_test(raw_train)\n",
    "test_x, test_y = create_train_test(raw_test)\n",
    "\n",
    "TOTAL_TESTS = test_x.shape[0]\n",
    "\n",
    "BATCH_SIZE = 32\n",
    "INITIAL_EPOCHS = 3 # 10\n",
    "FINE_TUNING_EPOCHS = 3 # 12\n",
    "TEACHER_LEARNING_RATE=1e-4\n",
    "STUDENT_LEARNING_RATE=1e-3\n",
    "\n",
    "mhist_train = tf.data.Dataset.from_tensor_slices((train_x, train_y)).cache()\n",
    "mhist_train = mhist_train.shuffle(buffer_size=mhist_train.cardinality())\n",
    "mhist_train = mhist_train.batch(BATCH_SIZE, drop_remainder=True)\n",
    "\n",
    "mhist_test = tf.data.Dataset.from_tensor_slices((test_x, test_y)).cache()\n",
    "mhist_test = mhist_test.batch(BATCH_SIZE)\n",
    "del train_x, train_y, test_x, test_y\n"
   ]
  },
  {
   "cell_type": "markdown",
   "metadata": {},
   "source": [
    "# Model creation"
   ]
  },
  {
   "cell_type": "code",
   "execution_count": 8,
   "metadata": {},
   "outputs": [],
   "source": [
    "# here is the teacher\n",
    "from tensorflow.keras.applications import ResNet50V2\n",
    "# use pretrained weights\n",
    "resnet50v2 = ResNet50V2(include_top=False, weights='imagenet', input_tensor=tf.keras.layers.Input(shape=(224,224,3)))\n",
    "cnn_model = tf.keras.Sequential()\n",
    "cnn_model.add(resnet50v2)\n",
    "cnn_model.add(tf.keras.layers.GlobalAveragePooling2D())\n",
    "cnn_model.add(tf.keras.layers.Dense(2))\n",
    "\n",
    "# cnn_model.add(tf.keras.layers.Flatten())\n",
    "# cnn_model.add(tf.keras.layers.Activation('relu'))\n",
    "# cnn_model.add(tf.keras.layers.Dense(2)) # no activation (logit output)\n",
    "\n",
    "from tensorflow.keras.models import Model\n",
    "fake_mobilenet = ResNet50V2(include_top=False, weights=None, input_tensor=tf.keras.layers.Input(shape=(224,224,3)))\n",
    "\n",
    "fake_mobilenet_shrunk = Model(inputs = fake_mobilenet.input, outputs = fake_mobilenet.layers[-50].output)\n",
    "fc_model = tf.keras.Sequential()\n",
    "fc_model.add(fake_mobilenet_shrunk)\n",
    "fc_model.add(tf.keras.layers.GlobalAveragePooling2D())\n",
    "fc_model.add(tf.keras.layers.Dense(2))\n",
    "\n",
    "# here is the student\n",
    "# from tensorflow.keras.applications import MobileNetV2\n",
    "# mobnetv2 = MobileNetV2(include_top=False, weights=None, input_tensor=tf.keras.layers.Input(shape=(224,224,3)))\n",
    "\n",
    "# remove the last 100 layer. too\n",
    "# mobnetv2.layers = mobnetv2.layers[:-100]\n",
    "\n",
    "# fc_model = tf.keras.Sequential()\n",
    "# fc_model.add(mobnetv2)\n",
    "# fc_model.add(tf.keras.layers.GlobalAveragePooling2D())\n",
    "# fc_model.add(tf.keras.layers.Dense(2))\n",
    "\n",
    "# fc_model.add(tf.keras.layers.Flatten())\n",
    "# fc_model.add(tf.keras.layers.Activation('relu'))\n",
    "# fc_model.add(tf.keras.layers.Dense(2)) # no activation (logit output)\n",
    "\n",
    "# fc_model = tf.keras.Sequential()\n",
    "# fc_model.add(tf.keras.layers.Flatten())\n",
    "# fc_model.add(tf.keras.layers.Dense(784, activation=\"relu\"))\n",
    "# fc_model.add(tf.keras.layers.Dense(784, activation=\"relu\"))\n",
    "# fc_model.add(tf.keras.layers.Dense(2)) # no activation (logit output)\n"
   ]
  },
  {
   "cell_type": "markdown",
   "metadata": {},
   "source": [
    "# Teacher loss function"
   ]
  },
  {
   "cell_type": "code",
   "execution_count": 9,
   "metadata": {},
   "outputs": [],
   "source": [
    "@tf.function\n",
    "def compute_teacher_loss(images, labels):\n",
    "  subclass_logits = cnn_model(images, training=True)\n",
    "  cross_entropy_loss_value = tf.reduce_mean(tf.nn.softmax_cross_entropy_with_logits(labels, subclass_logits))\n",
    "  return cross_entropy_loss_value"
   ]
  },
  {
   "cell_type": "markdown",
   "metadata": {},
   "source": [
    "# Student Loss Function"
   ]
  },
  {
   "cell_type": "code",
   "execution_count": 10,
   "metadata": {},
   "outputs": [],
   "source": [
    "#@test {\"output\": \"ignore\"}\n",
    "\n",
    "# Hyperparameters for distillation (need to be tuned).\n",
    "ALPHA = 0.5 # task balance between cross-entropy and distillation loss\n",
    "DISTILLATION_TEMPERATURE_ORIGINAL = 4\n",
    "DISTILLATION_TEMPERATURE = DISTILLATION_TEMPERATURE_ORIGINAL #temperature hyperparameter\n",
    "\n",
    "@tf.function\n",
    "def distillation_loss(teacher_logits: tf.Tensor, student_logits: tf.Tensor,\n",
    "                      temperature: Union[float, tf.Tensor]):\n",
    "  soft_targets = tf.nn.softmax(teacher_logits / temperature)\n",
    "\n",
    "  return tf.reduce_mean(\n",
    "      tf.nn.softmax_cross_entropy_with_logits(\n",
    "          soft_targets, student_logits / temperature)) * temperature ** 2\n",
    "\n",
    "@tf.function\n",
    "def compute_student_loss(images, labels):\n",
    "  student_subclass_logits = fc_model(images, training=True)\n",
    "\n",
    "  # Compute subclass distillation loss between student subclass logits and\n",
    "  # softened teacher subclass targets probabilities.\n",
    "\n",
    "  # your code start from here for step 3\n",
    "\n",
    "  teacher_subclass_logits = cnn_model(images, training=False)\n",
    "  distillation_loss_value = distillation_loss(teacher_subclass_logits, student_subclass_logits, DISTILLATION_TEMPERATURE)\n",
    "\n",
    "  # Compute cross-entropy loss with hard targets.\n",
    "\n",
    "  # your code start from here for step 3\n",
    "  cross_entropy_loss_value = tf.reduce_mean(tf.nn.softmax_cross_entropy_with_logits(labels, student_subclass_logits))\n",
    "\n",
    "  return distillation_loss_value * ALPHA + cross_entropy_loss_value * (1 - ALPHA)"
   ]
  },
  {
   "cell_type": "markdown",
   "metadata": {},
   "source": [
    "# Train and Evaluation"
   ]
  },
  {
   "cell_type": "code",
   "execution_count": 11,
   "metadata": {},
   "outputs": [],
   "source": [
    "from sklearn.metrics import f1_score\n",
    "\n",
    "# accumulate over batches for f1 score\n",
    "predicted_classes = [] # list of numpy array for each batch. concatenated before use\n",
    "true_classes = []\n",
    "\n",
    "def compute_num_correct(model, images, labels):\n",
    "  \"\"\"Compute number of correctly classified images in a batch.\n",
    "\n",
    "  Args:\n",
    "    model: Instance of tf.keras.Model.\n",
    "    images: Tensor representing a batch of images.\n",
    "    labels: Tensor representing a batch of labels.\n",
    "\n",
    "  Returns:\n",
    "    Number of correctly classified images.\n",
    "  \"\"\"\n",
    "  class_logits = model(images, training=False)\n",
    "\n",
    "  global predicted_classes, true_classes\n",
    "\n",
    "  predicted_classes_batch = tf.math.argmax(class_logits, axis=1)\n",
    "  true_classes_batch = tf.math.argmax(labels, axis=1)\n",
    "\n",
    "  predicted_classes.append(predicted_classes_batch.numpy())\n",
    "  true_classes.append(true_classes_batch.numpy())\n",
    "\n",
    "  return tf.reduce_sum(tf.cast(tf.equal(predicted_classes_batch, true_classes_batch), tf.int32))\n",
    "\n",
    "def train_and_evaluate(model, compute_loss_fn, num_epochs, learning_rate):\n",
    "  \"\"\"Perform training and evaluation for a given model.\n",
    "\n",
    "  Args:\n",
    "    model: Instance of tf.keras.Model.\n",
    "    compute_loss_fn: A function that computes the training loss given the\n",
    "      images, and labels.\n",
    "  \"\"\"\n",
    "\n",
    "  # your code start from here for step 4\n",
    "  optimizer = tf.keras.optimizers.Adam(learning_rate=learning_rate)\n",
    "\n",
    "  for epoch in range(1, num_epochs + 1):\n",
    "    # Run training.\n",
    "    print('Epoch {}: '.format(epoch), end='')\n",
    "    for images, labels in mhist_train:\n",
    "      with tf.GradientTape() as tape:\n",
    "         # your code start from here for step 4\n",
    "        loss_value = compute_loss_fn(images, labels)\n",
    "      grads = tape.gradient(loss_value, model.trainable_variables)\n",
    "      optimizer.apply_gradients(zip(grads, model.trainable_variables))\n",
    "\n",
    "    # Run evaluation.\n",
    "    num_correct = tf.constant(0, dtype=tf.int32)\n",
    "    num_total = TOTAL_TESTS\n",
    "    for images, labels in mhist_test:\n",
    "      # your code start from here for step 4\n",
    "      num = compute_num_correct(model, images, labels)\n",
    "      num_correct += num\n",
    "    \n",
    "    last_accuracy = num_correct / num_total * 100\n",
    "    print(\"Class_accuracy: \" + '{:.2f}%'.format(last_accuracy), end='')\n",
    "\n",
    "    # f1 print out\n",
    "    print(\" f1: \", f1_score(np.concatenate(true_classes), np.concatenate(predicted_classes)))\n",
    "\n",
    "    predicted_classes.clear() # reset for next epoch or end\n",
    "    true_classes.clear()\n",
    "  return last_accuracy\n"
   ]
  },
  {
   "cell_type": "markdown",
   "metadata": {},
   "source": [
    "# Train student from scratch"
   ]
  },
  {
   "cell_type": "code",
   "execution_count": 12,
   "metadata": {},
   "outputs": [
    {
     "name": "stdout",
     "output_type": "stream",
     "text": [
      "Epoch 1: "
     ]
    },
    {
     "name": "stderr",
     "output_type": "stream",
     "text": [
      "2023-11-01 16:14:03.811863: W tensorflow/tsl/framework/cpu_allocator_impl.cc:83] Allocation of 1309593600 exceeds 10% of free system memory.\n"
     ]
    },
    {
     "name": "stdout",
     "output_type": "stream",
     "text": [
      "Class_accuracy: 37.15% f1:  0.02229299363057325\n",
      "Epoch 2: Class_accuracy: 55.17% f1:  0.6686838124054464\n",
      "Epoch 3: Class_accuracy: 63.15% f1:  0.7741530740276036\n"
     ]
    }
   ],
   "source": [
    "# Build fully connected student.\n",
    "fc_model_no_distillation = tf.keras.models.clone_model(fc_model) # checked online. this does not copy the weights. fresh start\n",
    "\n",
    "# your code start from here for step 7\n",
    "\n",
    "#@test {\"output\": \"ignore\"}\n",
    "def compute_plain_cross_entropy_loss(images, labels):\n",
    "  \"\"\"Compute plain loss for given images and labels.\n",
    "\n",
    "  For fair comparison and convenience, this function also performs a\n",
    "  LogSumExp over subclasses, but does not perform subclass distillation.\n",
    "\n",
    "  Args:\n",
    "    images: Tensor representing a batch of images.\n",
    "    labels: Tensor representing a batch of labels.\n",
    "\n",
    "  Returns:\n",
    "    Scalar loss Tensor.\n",
    "  \"\"\"\n",
    "  # your code start from here for step 7\n",
    "\n",
    "  student_subclass_logits = fc_model_no_distillation(images, training=True)\n",
    "  cross_entropy_loss_value = tf.reduce_mean(tf.nn.softmax_cross_entropy_with_logits(labels, student_subclass_logits))\n",
    "  return cross_entropy_loss_value\n",
    "\n",
    "drop = train_and_evaluate(fc_model_no_distillation, compute_plain_cross_entropy_loss, INITIAL_EPOCHS, STUDENT_LEARNING_RATE)"
   ]
  },
  {
   "cell_type": "markdown",
   "metadata": {},
   "source": [
    "# Training Teacher Model"
   ]
  },
  {
   "cell_type": "code",
   "execution_count": 13,
   "metadata": {},
   "outputs": [
    {
     "name": "stdout",
     "output_type": "stream",
     "text": [
      "Epoch 1: Class_accuracy: 74.72% f1:  0.8304735758407688\n",
      "Epoch 2: Class_accuracy: 72.16% f1:  0.8169582772543742\n",
      "Epoch 3: Class_accuracy: 79.63% f1:  0.8539985326485693\n"
     ]
    }
   ],
   "source": [
    "drop = train_and_evaluate(cnn_model, compute_teacher_loss, INITIAL_EPOCHS, TEACHER_LEARNING_RATE)"
   ]
  },
  {
   "cell_type": "markdown",
   "metadata": {},
   "source": [
    "# Train student model from teacher model"
   ]
  },
  {
   "cell_type": "code",
   "execution_count": 14,
   "metadata": {},
   "outputs": [
    {
     "name": "stdout",
     "output_type": "stream",
     "text": [
      "Epoch 1: Class_accuracy: 59.67% f1:  0.720567375886525\n",
      "Epoch 2: Class_accuracy: 61.82% f1:  0.7637745408486384\n",
      "Epoch 3: "
     ]
    }
   ],
   "source": [
    "drop = train_and_evaluate(fc_model, compute_student_loss, INITIAL_EPOCHS, STUDENT_LEARNING_RATE)"
   ]
  }
 ],
 "metadata": {
  "kernelspec": {
   "display_name": "Python 3",
   "language": "python",
   "name": "python3"
  },
  "language_info": {
   "codemirror_mode": {
    "name": "ipython",
    "version": 3
   },
   "file_extension": ".py",
   "mimetype": "text/x-python",
   "name": "python",
   "nbconvert_exporter": "python",
   "pygments_lexer": "ipython3",
   "version": "3.8.10"
  }
 },
 "nbformat": 4,
 "nbformat_minor": 2
}
